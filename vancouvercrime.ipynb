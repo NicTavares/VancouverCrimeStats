{
 "cells": [
  {
   "cell_type": "markdown",
   "metadata": {
    "nbgrader": {
     "grade": false,
     "grade_id": "cell-0a3a16e4560c3222",
     "locked": true,
     "schema_version": 3,
     "solution": false,
     "task": false
    }
   },
   "source": [
    "# STAT 201 Project: Vancouver Crime"
   ]
  },
  {
   "cell_type": "code",
   "execution_count": 10,
   "metadata": {},
   "outputs": [
    {
     "name": "stderr",
     "output_type": "stream",
     "text": [
      "Installing package into ‘/home/jupyter/R/x86_64-pc-linux-gnu-library/4.0’\n",
      "(as ‘lib’ is unspecified)\n",
      "\n"
     ]
    }
   ],
   "source": [
    "set.seed(8888)\n",
    "inferURL <- \"https://cran.r-project.org/src/contrib/Archive/infer/infer_0.5.3.tar.gz\"\n",
    "\n",
    "install.packages(inferURL, repos=NULL, type=\"source\")\n",
    "# install.packages(\"gridExtra\")\n",
    "# install.packages(\"cowplot\")"
   ]
  },
  {
   "cell_type": "markdown",
   "metadata": {},
   "source": [
    "**Possible research question:** Is the proportion of bike theft crime compared to other crime different in two different neighbourhoods between 2003 and 2010 and had this changed from 2011 to 2018.\n",
    "\n",
    "Random Variable: Bike theft as a proportion of total crime\n",
    "\n",
    "Category 1: Neighbourhoods (Central Business District vs Kitsilano)\n",
    "\n",
    "Category 2: Time periods (2003-2010 vs 2011-2018)"
   ]
  },
  {
   "cell_type": "markdown",
   "metadata": {},
   "source": [
    "**Introduction**\n",
    "\n",
    "**Possible research question:** Is the proportion of bike theft crime compared to other crime different in two different neighbourhoods between 2003 and 2010 and had this changed from 2011 to 2018.\n",
    "\n",
    "Random Variable: Bike theft as a proportion of total crime\n",
    "\n",
    "Category 1: Neighbourhoods (Central Business District vs Kitsilano)\n",
    "\n",
    "Category 2: Time periods (2003-2010 vs 2011-2018)\n",
    "\n",
    "**Dataset:** The dataset we will be using is the Vancouver crime dataset provided by: https://geodash.vpd.ca/opendata/ . It contains the years, classifications, times, and locations of various crimes that have occurred in Vancouver starting from 2003 up to present.\n",
    "\n",
    "**Background:** Crime rates in Vancouver are constantly fluctuating. The COVID-19 pandemic in particular has drastically affected crime rates in the city of Vancouver. Local police recorded a 21.7% rise in serious assaults in the first half of 2020. Since most businesses closed and were left unattended, break-ins to commercial buildings increased by 47.9%. As restrictions loosened in late 2020, breaking and entering crimes began to subside, as well as domestic assault. ← should be more relevant to variables in our dataset? Explain more once we’ve chosen variables"
   ]
  },
  {
   "cell_type": "markdown",
   "metadata": {},
   "source": [
    "**Reading Data**"
   ]
  },
  {
   "cell_type": "code",
   "execution_count": 11,
   "metadata": {},
   "outputs": [
    {
     "name": "stderr",
     "output_type": "stream",
     "text": [
      "\n",
      "\u001b[36m──\u001b[39m \u001b[1m\u001b[1mColumn specification\u001b[1m\u001b[22m \u001b[36m────────────────────────────────────────────────────────\u001b[39m\n",
      "cols(\n",
      "  TYPE = \u001b[31mcol_character()\u001b[39m,\n",
      "  YEAR = \u001b[32mcol_double()\u001b[39m,\n",
      "  MONTH = \u001b[32mcol_double()\u001b[39m,\n",
      "  DAY = \u001b[32mcol_double()\u001b[39m,\n",
      "  HOUR = \u001b[32mcol_double()\u001b[39m,\n",
      "  MINUTE = \u001b[32mcol_double()\u001b[39m,\n",
      "  HUNDRED_BLOCK = \u001b[31mcol_character()\u001b[39m,\n",
      "  NEIGHBOURHOOD = \u001b[31mcol_character()\u001b[39m,\n",
      "  X = \u001b[32mcol_double()\u001b[39m,\n",
      "  Y = \u001b[32mcol_double()\u001b[39m\n",
      ")\n",
      "\n",
      "\n"
     ]
    },
    {
     "data": {
      "text/html": [
       "<table>\n",
       "<caption>A tibble: 6 × 10</caption>\n",
       "<thead>\n",
       "\t<tr><th scope=col>TYPE</th><th scope=col>YEAR</th><th scope=col>MONTH</th><th scope=col>DAY</th><th scope=col>HOUR</th><th scope=col>MINUTE</th><th scope=col>HUNDRED_BLOCK</th><th scope=col>NEIGHBOURHOOD</th><th scope=col>X</th><th scope=col>Y</th></tr>\n",
       "\t<tr><th scope=col>&lt;chr&gt;</th><th scope=col>&lt;dbl&gt;</th><th scope=col>&lt;dbl&gt;</th><th scope=col>&lt;dbl&gt;</th><th scope=col>&lt;dbl&gt;</th><th scope=col>&lt;dbl&gt;</th><th scope=col>&lt;chr&gt;</th><th scope=col>&lt;chr&gt;</th><th scope=col>&lt;dbl&gt;</th><th scope=col>&lt;dbl&gt;</th></tr>\n",
       "</thead>\n",
       "<tbody>\n",
       "\t<tr><td>Theft from Vehicle</td><td>2015</td><td> 9</td><td> 2</td><td>13</td><td> 0</td><td>8XX SEYMOUR ST</td><td>Central Business District</td><td>491251.2</td><td>5458553</td></tr>\n",
       "\t<tr><td>Theft from Vehicle</td><td>2015</td><td> 9</td><td> 7</td><td> 7</td><td>20</td><td>8XX SEYMOUR ST</td><td>Central Business District</td><td>491251.2</td><td>5458553</td></tr>\n",
       "\t<tr><td>Theft from Vehicle</td><td>2015</td><td> 9</td><td> 7</td><td>21</td><td> 0</td><td>8XX SEYMOUR ST</td><td>Central Business District</td><td>491251.2</td><td>5458553</td></tr>\n",
       "\t<tr><td>Theft from Vehicle</td><td>2015</td><td> 9</td><td>12</td><td>22</td><td> 0</td><td>8XX SEYMOUR ST</td><td>Central Business District</td><td>491251.2</td><td>5458553</td></tr>\n",
       "\t<tr><td>Theft from Vehicle</td><td>2015</td><td> 9</td><td>16</td><td>23</td><td>25</td><td>8XX SEYMOUR ST</td><td>Central Business District</td><td>491251.2</td><td>5458553</td></tr>\n",
       "\t<tr><td>Theft from Vehicle</td><td>2015</td><td>10</td><td> 1</td><td>11</td><td> 0</td><td>8XX SEYMOUR ST</td><td>Central Business District</td><td>491251.2</td><td>5458553</td></tr>\n",
       "</tbody>\n",
       "</table>\n"
      ],
      "text/latex": [
       "A tibble: 6 × 10\n",
       "\\begin{tabular}{llllllllll}\n",
       " TYPE & YEAR & MONTH & DAY & HOUR & MINUTE & HUNDRED\\_BLOCK & NEIGHBOURHOOD & X & Y\\\\\n",
       " <chr> & <dbl> & <dbl> & <dbl> & <dbl> & <dbl> & <chr> & <chr> & <dbl> & <dbl>\\\\\n",
       "\\hline\n",
       "\t Theft from Vehicle & 2015 &  9 &  2 & 13 &  0 & 8XX SEYMOUR ST & Central Business District & 491251.2 & 5458553\\\\\n",
       "\t Theft from Vehicle & 2015 &  9 &  7 &  7 & 20 & 8XX SEYMOUR ST & Central Business District & 491251.2 & 5458553\\\\\n",
       "\t Theft from Vehicle & 2015 &  9 &  7 & 21 &  0 & 8XX SEYMOUR ST & Central Business District & 491251.2 & 5458553\\\\\n",
       "\t Theft from Vehicle & 2015 &  9 & 12 & 22 &  0 & 8XX SEYMOUR ST & Central Business District & 491251.2 & 5458553\\\\\n",
       "\t Theft from Vehicle & 2015 &  9 & 16 & 23 & 25 & 8XX SEYMOUR ST & Central Business District & 491251.2 & 5458553\\\\\n",
       "\t Theft from Vehicle & 2015 & 10 &  1 & 11 &  0 & 8XX SEYMOUR ST & Central Business District & 491251.2 & 5458553\\\\\n",
       "\\end{tabular}\n"
      ],
      "text/markdown": [
       "\n",
       "A tibble: 6 × 10\n",
       "\n",
       "| TYPE &lt;chr&gt; | YEAR &lt;dbl&gt; | MONTH &lt;dbl&gt; | DAY &lt;dbl&gt; | HOUR &lt;dbl&gt; | MINUTE &lt;dbl&gt; | HUNDRED_BLOCK &lt;chr&gt; | NEIGHBOURHOOD &lt;chr&gt; | X &lt;dbl&gt; | Y &lt;dbl&gt; |\n",
       "|---|---|---|---|---|---|---|---|---|---|\n",
       "| Theft from Vehicle | 2015 |  9 |  2 | 13 |  0 | 8XX SEYMOUR ST | Central Business District | 491251.2 | 5458553 |\n",
       "| Theft from Vehicle | 2015 |  9 |  7 |  7 | 20 | 8XX SEYMOUR ST | Central Business District | 491251.2 | 5458553 |\n",
       "| Theft from Vehicle | 2015 |  9 |  7 | 21 |  0 | 8XX SEYMOUR ST | Central Business District | 491251.2 | 5458553 |\n",
       "| Theft from Vehicle | 2015 |  9 | 12 | 22 |  0 | 8XX SEYMOUR ST | Central Business District | 491251.2 | 5458553 |\n",
       "| Theft from Vehicle | 2015 |  9 | 16 | 23 | 25 | 8XX SEYMOUR ST | Central Business District | 491251.2 | 5458553 |\n",
       "| Theft from Vehicle | 2015 | 10 |  1 | 11 |  0 | 8XX SEYMOUR ST | Central Business District | 491251.2 | 5458553 |\n",
       "\n"
      ],
      "text/plain": [
       "  TYPE               YEAR MONTH DAY HOUR MINUTE HUNDRED_BLOCK \n",
       "1 Theft from Vehicle 2015  9     2  13    0     8XX SEYMOUR ST\n",
       "2 Theft from Vehicle 2015  9     7   7   20     8XX SEYMOUR ST\n",
       "3 Theft from Vehicle 2015  9     7  21    0     8XX SEYMOUR ST\n",
       "4 Theft from Vehicle 2015  9    12  22    0     8XX SEYMOUR ST\n",
       "5 Theft from Vehicle 2015  9    16  23   25     8XX SEYMOUR ST\n",
       "6 Theft from Vehicle 2015 10     1  11    0     8XX SEYMOUR ST\n",
       "  NEIGHBOURHOOD             X        Y      \n",
       "1 Central Business District 491251.2 5458553\n",
       "2 Central Business District 491251.2 5458553\n",
       "3 Central Business District 491251.2 5458553\n",
       "4 Central Business District 491251.2 5458553\n",
       "5 Central Business District 491251.2 5458553\n",
       "6 Central Business District 491251.2 5458553"
      ]
     },
     "metadata": {},
     "output_type": "display_data"
    }
   ],
   "source": [
    "library(readr)\n",
    "library(tidyverse)\n",
    "library(repr)\n",
    "library(digest)\n",
    "# library(infer)\n",
    "# library(gridExtra)\n",
    "# library(cowplot)\n",
    "\n",
    "myurl <- \"https://raw.githubusercontent.com/NicTavares/VancouverCrimeStats/master/crimedata_csv_all_years.csv\"\n",
    "\n",
    "crime_data<-read_csv(url(myurl))\n",
    "head(crime_data)"
   ]
  },
  {
   "cell_type": "markdown",
   "metadata": {},
   "source": [
    "**Cleaning the Data**"
   ]
  },
  {
   "cell_type": "code",
   "execution_count": 16,
   "metadata": {},
   "outputs": [
    {
     "data": {
      "text/html": [
       "<table>\n",
       "<caption>A tibble: 6 × 3</caption>\n",
       "<thead>\n",
       "\t<tr><th scope=col>TYPE</th><th scope=col>YEAR</th><th scope=col>NEIGHBOURHOOD</th></tr>\n",
       "\t<tr><th scope=col>&lt;chr&gt;</th><th scope=col>&lt;dbl&gt;</th><th scope=col>&lt;chr&gt;</th></tr>\n",
       "</thead>\n",
       "<tbody>\n",
       "\t<tr><td>Theft from Vehicle</td><td>2015</td><td>Central Business District</td></tr>\n",
       "\t<tr><td>Theft from Vehicle</td><td>2015</td><td>Central Business District</td></tr>\n",
       "\t<tr><td>Theft from Vehicle</td><td>2015</td><td>Central Business District</td></tr>\n",
       "\t<tr><td>Theft from Vehicle</td><td>2015</td><td>Central Business District</td></tr>\n",
       "\t<tr><td>Theft from Vehicle</td><td>2015</td><td>Central Business District</td></tr>\n",
       "\t<tr><td>Theft from Vehicle</td><td>2015</td><td>Central Business District</td></tr>\n",
       "</tbody>\n",
       "</table>\n"
      ],
      "text/latex": [
       "A tibble: 6 × 3\n",
       "\\begin{tabular}{lll}\n",
       " TYPE & YEAR & NEIGHBOURHOOD\\\\\n",
       " <chr> & <dbl> & <chr>\\\\\n",
       "\\hline\n",
       "\t Theft from Vehicle & 2015 & Central Business District\\\\\n",
       "\t Theft from Vehicle & 2015 & Central Business District\\\\\n",
       "\t Theft from Vehicle & 2015 & Central Business District\\\\\n",
       "\t Theft from Vehicle & 2015 & Central Business District\\\\\n",
       "\t Theft from Vehicle & 2015 & Central Business District\\\\\n",
       "\t Theft from Vehicle & 2015 & Central Business District\\\\\n",
       "\\end{tabular}\n"
      ],
      "text/markdown": [
       "\n",
       "A tibble: 6 × 3\n",
       "\n",
       "| TYPE &lt;chr&gt; | YEAR &lt;dbl&gt; | NEIGHBOURHOOD &lt;chr&gt; |\n",
       "|---|---|---|\n",
       "| Theft from Vehicle | 2015 | Central Business District |\n",
       "| Theft from Vehicle | 2015 | Central Business District |\n",
       "| Theft from Vehicle | 2015 | Central Business District |\n",
       "| Theft from Vehicle | 2015 | Central Business District |\n",
       "| Theft from Vehicle | 2015 | Central Business District |\n",
       "| Theft from Vehicle | 2015 | Central Business District |\n",
       "\n"
      ],
      "text/plain": [
       "  TYPE               YEAR NEIGHBOURHOOD            \n",
       "1 Theft from Vehicle 2015 Central Business District\n",
       "2 Theft from Vehicle 2015 Central Business District\n",
       "3 Theft from Vehicle 2015 Central Business District\n",
       "4 Theft from Vehicle 2015 Central Business District\n",
       "5 Theft from Vehicle 2015 Central Business District\n",
       "6 Theft from Vehicle 2015 Central Business District"
      ]
     },
     "metadata": {},
     "output_type": "display_data"
    }
   ],
   "source": [
    "crime_data_clean = subset(crime_data, select = c(TYPE, YEAR, NEIGHBOURHOOD))\n",
    "crime_data_clean = crime_data_clean %>% filter(!is.na(TYPE)) %>% filter(!is.na(YEAR)) %>% filter(!is.na(NEIGHBOURHOOD))\n",
    "crime_data_clean = crime_data_clean %>% filter(NEIGHBOURHOOD == 'Central Business District' | NEIGHBOURHOOD == 'Kitsilano')\n",
    "head(crime_data_clean)"
   ]
  },
  {
   "cell_type": "markdown",
   "metadata": {},
   "source": [
    "**Basic Plots**"
   ]
  },
  {
   "cell_type": "code",
   "execution_count": 17,
   "metadata": {},
   "outputs": [
    {
     "name": "stderr",
     "output_type": "stream",
     "text": [
      "`summarise()` ungrouping output (override with `.groups` argument)\n",
      "\n",
      "`summarise()` ungrouping output (override with `.groups` argument)\n",
      "\n",
      "`summarise()` ungrouping output (override with `.groups` argument)\n",
      "\n"
     ]
    },
    {
     "data": {
      "image/png": "[encoded data removed]",
      "text/plain": [
       "plot without title"
      ]
     },
     "metadata": {
      "image/png": {
       "height": 420,
       "width": 420
      }
     },
     "output_type": "display_data"
    },
    {
     "data": {
      "image/png": "[encoded data removed]",
      "text/plain": [
       "plot without title"
      ]
     },
     "metadata": {
      "image/png": {
       "height": 420,
       "width": 420
      }
     },
     "output_type": "display_data"
    },
    {
     "data": {
      "image/png": "[encoded data removed]",
      "text/plain": [
       "plot without title"
      ]
     },
     "metadata": {
      "image/png": {
       "height": 420,
       "width": 420
      }
     },
     "output_type": "display_data"
    },
    {
     "data": {
      "image/png": "[encoded data removed]",
      "text/plain": [
       "plot without title"
      ]
     },
     "metadata": {
      "image/png": {
       "height": 420,
       "width": 420
      }
     },
     "output_type": "display_data"
    }
   ],
   "source": [
    "year_plot <- crime_data_clean %>% ggplot() + geom_histogram(aes(x = YEAR), bins = 18) + labs(title = \"Number of Crimes Per Year\",\n",
    "         x = \"Year\", y = \"Number of Crimes\")\n",
    "crime_count <- crime_data_clean %>% group_by(TYPE) %>% summarize(Count = n())\n",
    "\n",
    "neighbourhood_count <- crime_data_clean %>% group_by(NEIGHBOURHOOD) %>% summarize(Count = n())\n",
    "\n",
    "Bike_Plot <- crime_data_clean %>% filter(TYPE == \"Theft of Bicycle\") %>% group_by(NEIGHBOURHOOD) %>% summarize(count = n())%>%\n",
    "   ggplot() + geom_col(aes(x = NEIGHBOURHOOD, y = count)) + labs(title = \"Frequency of Bike Theft Crimes\",\n",
    "         x = \"Type of Crime\", y = \"Frequency\") + theme(axis.text.x = element_text(angle = 90))\n",
    "\n",
    "crime_count_plot <- crime_count %>% ggplot() + geom_col(aes(x = TYPE, y = Count)) + labs(title = \"Frequency of Different Crimes\",\n",
    "         x = \"Type of Crime\", y = \"Frequency\") + theme(axis.text.x = element_text(angle = 90))\n",
    "\n",
    "neighbourhood_count_plot <- neighbourhood_count %>% ggplot() + geom_col(aes(x = NEIGHBOURHOOD, y = Count)) + labs(title = \"Frequency of Crime In Neighbourhoods\",\n",
    "         x = \"Neighbourhood\", y = \"Frequency\") + theme(axis.text.x = element_text(angle = 90))\n",
    "\n",
    "print(crime_count_plot)\n",
    "print(year_plot)\n",
    "print(neighbourhood_count_plot)\n",
    "print(Bike_Plot)"
   ]
  },
  {
   "cell_type": "markdown",
   "metadata": {},
   "source": [
    "**Sampling**"
   ]
  },
  {
   "cell_type": "code",
   "execution_count": 31,
   "metadata": {},
   "outputs": [
    {
     "data": {
      "text/html": [
       "<table>\n",
       "<caption>A tibble: 1 × 1</caption>\n",
       "<thead>\n",
       "\t<tr><th scope=col>n</th></tr>\n",
       "\t<tr><th scope=col>&lt;int&gt;</th></tr>\n",
       "</thead>\n",
       "<tbody>\n",
       "\t<tr><td>251914</td></tr>\n",
       "</tbody>\n",
       "</table>\n"
      ],
      "text/latex": [
       "A tibble: 1 × 1\n",
       "\\begin{tabular}{l}\n",
       " n\\\\\n",
       " <int>\\\\\n",
       "\\hline\n",
       "\t 251914\\\\\n",
       "\\end{tabular}\n"
      ],
      "text/markdown": [
       "\n",
       "A tibble: 1 × 1\n",
       "\n",
       "| n &lt;int&gt; |\n",
       "|---|\n",
       "| 251914 |\n",
       "\n"
      ],
      "text/plain": [
       "  n     \n",
       "1 251914"
      ]
     },
     "metadata": {},
     "output_type": "display_data"
    },
    {
     "data": {
      "text/html": [
       "<table>\n",
       "<caption>A grouped_df: 6 × 4</caption>\n",
       "<thead>\n",
       "\t<tr><th scope=col>replicate</th><th scope=col>TYPE</th><th scope=col>YEAR</th><th scope=col>NEIGHBOURHOOD</th></tr>\n",
       "\t<tr><th scope=col>&lt;int&gt;</th><th scope=col>&lt;chr&gt;</th><th scope=col>&lt;dbl&gt;</th><th scope=col>&lt;chr&gt;</th></tr>\n",
       "</thead>\n",
       "<tbody>\n",
       "\t<tr><td>1</td><td>Mischief          </td><td>2015</td><td>Central Business District</td></tr>\n",
       "\t<tr><td>1</td><td>Theft of Vehicle  </td><td>2017</td><td>Central Business District</td></tr>\n",
       "\t<tr><td>1</td><td>Theft of Vehicle  </td><td>2003</td><td>Kitsilano                </td></tr>\n",
       "\t<tr><td>1</td><td>Mischief          </td><td>2016</td><td>Central Business District</td></tr>\n",
       "\t<tr><td>1</td><td>Other Theft       </td><td>2015</td><td>Central Business District</td></tr>\n",
       "\t<tr><td>1</td><td>Theft from Vehicle</td><td>2009</td><td>Central Business District</td></tr>\n",
       "</tbody>\n",
       "</table>\n"
      ],
      "text/latex": [
       "A grouped\\_df: 6 × 4\n",
       "\\begin{tabular}{llll}\n",
       " replicate & TYPE & YEAR & NEIGHBOURHOOD\\\\\n",
       " <int> & <chr> & <dbl> & <chr>\\\\\n",
       "\\hline\n",
       "\t 1 & Mischief           & 2015 & Central Business District\\\\\n",
       "\t 1 & Theft of Vehicle   & 2017 & Central Business District\\\\\n",
       "\t 1 & Theft of Vehicle   & 2003 & Kitsilano                \\\\\n",
       "\t 1 & Mischief           & 2016 & Central Business District\\\\\n",
       "\t 1 & Other Theft        & 2015 & Central Business District\\\\\n",
       "\t 1 & Theft from Vehicle & 2009 & Central Business District\\\\\n",
       "\\end{tabular}\n"
      ],
      "text/markdown": [
       "\n",
       "A grouped_df: 6 × 4\n",
       "\n",
       "| replicate &lt;int&gt; | TYPE &lt;chr&gt; | YEAR &lt;dbl&gt; | NEIGHBOURHOOD &lt;chr&gt; |\n",
       "|---|---|---|---|\n",
       "| 1 | Mischief           | 2015 | Central Business District |\n",
       "| 1 | Theft of Vehicle   | 2017 | Central Business District |\n",
       "| 1 | Theft of Vehicle   | 2003 | Kitsilano                 |\n",
       "| 1 | Mischief           | 2016 | Central Business District |\n",
       "| 1 | Other Theft        | 2015 | Central Business District |\n",
       "| 1 | Theft from Vehicle | 2009 | Central Business District |\n",
       "\n"
      ],
      "text/plain": [
       "  replicate TYPE               YEAR NEIGHBOURHOOD            \n",
       "1 1         Mischief           2015 Central Business District\n",
       "2 1         Theft of Vehicle   2017 Central Business District\n",
       "3 1         Theft of Vehicle   2003 Kitsilano                \n",
       "4 1         Mischief           2016 Central Business District\n",
       "5 1         Other Theft        2015 Central Business District\n",
       "6 1         Theft from Vehicle 2009 Central Business District"
      ]
     },
     "metadata": {},
     "output_type": "display_data"
    },
    {
     "data": {
      "text/html": [
       "<table>\n",
       "<caption>A grouped_df: 6 × 4</caption>\n",
       "<thead>\n",
       "\t<tr><th scope=col>replicate</th><th scope=col>TYPE</th><th scope=col>YEAR</th><th scope=col>NEIGHBOURHOOD</th></tr>\n",
       "\t<tr><th scope=col>&lt;int&gt;</th><th scope=col>&lt;chr&gt;</th><th scope=col>&lt;dbl&gt;</th><th scope=col>&lt;chr&gt;</th></tr>\n",
       "</thead>\n",
       "<tbody>\n",
       "\t<tr><td>1</td><td>Mischief                         </td><td>2017</td><td>Kitsilano</td></tr>\n",
       "\t<tr><td>1</td><td>Offence Against a Person         </td><td>2018</td><td>Kitsilano</td></tr>\n",
       "\t<tr><td>1</td><td>Offence Against a Person         </td><td>2014</td><td>Kitsilano</td></tr>\n",
       "\t<tr><td>1</td><td>Break and Enter Residential/Other</td><td>2016</td><td>Kitsilano</td></tr>\n",
       "\t<tr><td>1</td><td>Theft from Vehicle               </td><td>2017</td><td>Kitsilano</td></tr>\n",
       "\t<tr><td>1</td><td>Other Theft                      </td><td>2011</td><td>Kitsilano</td></tr>\n",
       "</tbody>\n",
       "</table>\n"
      ],
      "text/latex": [
       "A grouped\\_df: 6 × 4\n",
       "\\begin{tabular}{llll}\n",
       " replicate & TYPE & YEAR & NEIGHBOURHOOD\\\\\n",
       " <int> & <chr> & <dbl> & <chr>\\\\\n",
       "\\hline\n",
       "\t 1 & Mischief                          & 2017 & Kitsilano\\\\\n",
       "\t 1 & Offence Against a Person          & 2018 & Kitsilano\\\\\n",
       "\t 1 & Offence Against a Person          & 2014 & Kitsilano\\\\\n",
       "\t 1 & Break and Enter Residential/Other & 2016 & Kitsilano\\\\\n",
       "\t 1 & Theft from Vehicle                & 2017 & Kitsilano\\\\\n",
       "\t 1 & Other Theft                       & 2011 & Kitsilano\\\\\n",
       "\\end{tabular}\n"
      ],
      "text/markdown": [
       "\n",
       "A grouped_df: 6 × 4\n",
       "\n",
       "| replicate &lt;int&gt; | TYPE &lt;chr&gt; | YEAR &lt;dbl&gt; | NEIGHBOURHOOD &lt;chr&gt; |\n",
       "|---|---|---|---|\n",
       "| 1 | Mischief                          | 2017 | Kitsilano |\n",
       "| 1 | Offence Against a Person          | 2018 | Kitsilano |\n",
       "| 1 | Offence Against a Person          | 2014 | Kitsilano |\n",
       "| 1 | Break and Enter Residential/Other | 2016 | Kitsilano |\n",
       "| 1 | Theft from Vehicle                | 2017 | Kitsilano |\n",
       "| 1 | Other Theft                       | 2011 | Kitsilano |\n",
       "\n"
      ],
      "text/plain": [
       "  replicate TYPE                              YEAR NEIGHBOURHOOD\n",
       "1 1         Mischief                          2017 Kitsilano    \n",
       "2 1         Offence Against a Person          2018 Kitsilano    \n",
       "3 1         Offence Against a Person          2014 Kitsilano    \n",
       "4 1         Break and Enter Residential/Other 2016 Kitsilano    \n",
       "5 1         Theft from Vehicle                2017 Kitsilano    \n",
       "6 1         Other Theft                       2011 Kitsilano    "
      ]
     },
     "metadata": {},
     "output_type": "display_data"
    }
   ],
   "source": [
    "n = crime_data_clean %>% summarize(n = n())\n",
    "n\n",
    "# Sample \n",
    "sample = crime_data_clean %>% infer::rep_sample_n(size = 25000)\n",
    "head(sample)\n",
    "\n",
    "sample_2003_2010_CBD = sample %>% filter(YEAR >= 2003 & YEAR <= 2010 & NEIGHBOURHOOD == 'Central Business District')\n",
    "\n",
    "sample_2011_2018_CBD = sample %>% filter(YEAR >= 2011 & YEAR <= 2018 & NEIGHBOURHOOD == 'Central Business District')\n",
    "\n",
    "sample_2003_2010_kits = sample %>% filter(YEAR >= 2003 & YEAR <= 2010 & NEIGHBOURHOOD == 'Kitsilano')\n",
    "\n",
    "sample_2011_2018_kits = sample %>% filter(YEAR >= 2011 & YEAR <= 2018 & NEIGHBOURHOOD == 'Kitsilano')\n",
    "\n",
    "head(sample_2011_2018_kits)\n",
    "\n",
    "# # Grouping by Year and TYpe\n",
    "# crimes_per_year_type = sample %>% group_by(YEAR, TYPE) %>% summarize(n = n())\n",
    "# print(crimes_per_year_type)\n",
    "\n",
    "# # Grouping by year and neighbourhood\n",
    "# crimes_per_year_neighbourhood = sample %>% group_by(YEAR, NEIGHBOURHOOD) %>%\n",
    "#  summarize(n = n()) %>%\n",
    "#  mutate(prop = n/sum(n))\n",
    "\n",
    "\n",
    "# head(crimes_per_year_neighbourhood)\n",
    "# crimes_per_type = sample %>% group_by(TYPE) %>% summarize(n = n()) \n",
    "# print(head(crimes_per_type))\n",
    "\n",
    "# crimes_per_neighbourhood = sample %>% group_by(NEIGHBOURHOOD) %>% summarize(n = n())\n",
    "# print(head(crimes_per_neighbourhood))\n",
    "\n",
    "\n",
    "\n"
   ]
  },
  {
   "cell_type": "markdown",
   "metadata": {},
   "source": [
    "**Initial Proportion Calculation**"
   ]
  },
  {
   "cell_type": "code",
   "execution_count": 42,
   "metadata": {},
   "outputs": [
    {
     "name": "stderr",
     "output_type": "stream",
     "text": [
      "`summarise()` ungrouping output (override with `.groups` argument)\n",
      "\n",
      "`summarise()` ungrouping output (override with `.groups` argument)\n",
      "\n",
      "`summarise()` ungrouping output (override with `.groups` argument)\n",
      "\n",
      "`summarise()` ungrouping output (override with `.groups` argument)\n",
      "\n"
     ]
    },
    {
     "name": "stdout",
     "output_type": "stream",
     "text": [
      "[1] \"Proportion of Crime in Kitsilano That was Bike Theft from 2003-2010:\"\n"
     ]
    },
    {
     "data": {
      "text/html": [
       "0.057909604519774"
      ],
      "text/latex": [
       "0.057909604519774"
      ],
      "text/markdown": [
       "0.057909604519774"
      ],
      "text/plain": [
       "[1] 0.0579096"
      ]
     },
     "metadata": {},
     "output_type": "display_data"
    },
    {
     "name": "stdout",
     "output_type": "stream",
     "text": [
      "[1] \"Proportion of Crime in Kitsilano That was Bike Theft from 2011-2018:\"\n"
     ]
    },
    {
     "data": {
      "text/html": [
       "0.0971937029431896"
      ],
      "text/latex": [
       "0.0971937029431896"
      ],
      "text/markdown": [
       "0.0971937029431896"
      ],
      "text/plain": [
       "[1] 0.0971937"
      ]
     },
     "metadata": {},
     "output_type": "display_data"
    },
    {
     "name": "stdout",
     "output_type": "stream",
     "text": [
      "[1] \"Proportion of Crime in the Central Business District that was Bike Theft from 2003-2010:\"\n"
     ]
    },
    {
     "data": {
      "text/html": [
       "0.0342812183882207"
      ],
      "text/latex": [
       "0.0342812183882207"
      ],
      "text/markdown": [
       "0.0342812183882207"
      ],
      "text/plain": [
       "[1] 0.03428122"
      ]
     },
     "metadata": {},
     "output_type": "display_data"
    },
    {
     "name": "stdout",
     "output_type": "stream",
     "text": [
      "[1] \"Proportion of Crime in the Central Business District that was Bike Theft from 2011-2018:\"\n"
     ]
    },
    {
     "data": {
      "text/html": [
       "0.0544003596717995"
      ],
      "text/latex": [
       "0.0544003596717995"
      ],
      "text/markdown": [
       "0.0544003596717995"
      ],
      "text/plain": [
       "[1] 0.05440036"
      ]
     },
     "metadata": {},
     "output_type": "display_data"
    }
   ],
   "source": [
    "kits_2003_2010_n = sample_2003_2010_kits %>% group_by(TYPE) %>% summarize(n = n())\n",
    "kits_2011_2018_n = sample_2011_2018_kits %>% group_by(TYPE) %>% summarize(n = n())\n",
    "CBD_2003_2010_n = sample_2003_2010_CBD %>% group_by(TYPE) %>% summarize(n = n())\n",
    "CBD_2011_2018_n = sample_2011_2018_CBD %>% group_by(TYPE) %>% summarize(n = n())\n",
    "# head(kits_2003_2010_n)\n",
    "# head(kits_2011_2018_n)\n",
    "# head(CBD_2003_2010_n)\n",
    "# head(CBD_2011_2018_n)\n",
    "\n",
    "\n",
    "#The proportion of total crimes in Kitsilano from 2003-2010 that were Bicycle theft\n",
    "total_crimes_kits_2003 = sum(kits_2003_2010_n$n)\n",
    "bike_theft_kits_2003 = kits_2003_2010_n %>% filter(TYPE == 'Theft of Bicycle')\n",
    "kits_2003_2010_prop = bike_theft_kits_2003$n/total_crimes_kits_2003\n",
    "print(\"Proportion of Crime in Kitsilano That was Bike Theft from 2003-2010:\")\n",
    "kits_2003_2010_prop\n",
    "\n",
    "\n",
    "#Proportion for kits 2011 to 2018\n",
    "total_crimes_kits_2011 = sum(kits_2011_2018_n$n)\n",
    "bike_theft_kits_2011 = kits_2011_2018_n %>% filter(TYPE == 'Theft of Bicycle')\n",
    "kits_2010_2018_prop = bike_theft_kits_2011$n/total_crimes_kits_2011\n",
    "print(\"Proportion of Crime in Kitsilano That was Bike Theft from 2011-2018:\")\n",
    "kits_2010_2018_prop\n",
    "\n",
    "\n",
    "#Proportions for CBD 2003 to 2010\n",
    "total_crimes_CBD_2003 = sum(CBD_2003_2010_n$n)\n",
    "bikes_theft_CBD_2003 = CBD_2003_2010_n %>% filter(TYPE == 'Theft of Bicycle')\n",
    "CBD_prop_2003 = bikes_theft_CBD_2003$n/total_crimes_CBD_2003\n",
    "print(\"Proportion of Crime in the Central Business District that was Bike Theft from 2003-2010:\")\n",
    "CBD_prop_2003\n",
    "\n",
    "\n",
    "#proportions for CBD 2011 to 2018\n",
    "total_crimes_CBD_2011 = sum(CBD_2003_2010_n$n)\n",
    "bikes_theft_CBD_2011 = CBD_2011_2018_n %>% filter(TYPE == 'Theft of Bicycle')\n",
    "CBD_prop_2011 = bikes_theft_CBD_2011$n/total_crimes_CBD_2011\n",
    "print(\"Proportion of Crime in the Central Business District that was Bike Theft from 2011-2018:\")\n",
    "CBD_prop_2011\n"
   ]
  },
  {
   "cell_type": "markdown",
   "metadata": {},
   "source": [
    "**Methods**\n",
    "In what ways is this report trustworthy?\n",
    "\n",
    "Continue by explaining why the plot(s) and estimates that you produced are not enough to give to a stakeholder, and what you should provide in addition to address this gap. Make sure your plans include at least one hypothesis test and one confidence interval, with at least one of these being calculated using both bootstrapping and asymptotics for comparison.\n",
    "**The initial estimates here are not trustworthy because they are based only on point estimates from our sample. It is possible that while our point estimates are different they are not different enough to believe that the actual population parameters are truly different. We would still need to perform hypothesis testing to determine our confidence level that the true proportions are different (I'm not sure if this makes sense/is true)-Nic**\n",
    "\n",
    "What do you expect to find? \n",
    "\n",
    "We expect to find that certain crimes such as assault may have increased over time while others may have decreased. We also expect the total number of crimes to increase over the years. ← mention neighbourhood predictions\n",
    "\n",
    "**for the bike crime question I would expect bike crimes as a proportion of total crime to be different across different neighbourhoods -Nic**\n",
    "\n",
    "What impact could such findings have?\n",
    "\n",
    "The results of this project could help inform the police on how to allocate their resources the most effectively (i.e., have higher staff in X neighbourhood). Our results may indicate which crimes are becoming more frequent in specified neighbourhoods, information that the Vancouver Police Department could use to strategically schedule staff based on their abilities and experiences. \n",
    "\n",
    "**Impact for the bike crime as a proportion of crime could something similar to this - it could inform police resource allocation and city budget allocation. For example installing more cameras and bike racks in certain locations or installing bike cage rentals in certain locations -Nic**\n",
    "\n",
    "What future questions could this lead to? \n",
    "\n",
    "A future question this project could inform is “Why has the occurrence of crime x increased/decreased over time?” \n",
    "\n",
    "**Similarily it could inform the question of why is bike crime greater/lesser/same in this area versus other areas? -Nic**"
   ]
  },
  {
   "cell_type": "markdown",
   "metadata": {},
   "source": [
    "**References**\n",
    "\n",
    "(1)The Canadian Press. (2020, September 17). Vancouver police record increase in violent crime, decrease in property crime in the first half of 2020. CBCnews. https://www.cbc.ca/news/canada/british-columbia/vancouver-police-increase-violent-crime-decrease-property-crime-1.5728664.\n",
    "\n",
    "(2)Uguen-Csenge, E. (2021, June 27). Here's what happened to crime rates in Vancouver during the pandemic | CBC News. CBCnews. https://www.cbc.ca/news/canada/british-columbia/here-s-what-happened-to-crime-rates-in-vancouver-during-the-pandemic-1.6078015."
   ]
  },
  {
   "cell_type": "code",
   "execution_count": null,
   "metadata": {},
   "outputs": [],
   "source": []
  }
 ],
 "metadata": {
  "celltoolbar": "Create Assignment",
  "docker": {
   "latest_image_tag": "v0.4.0"
  },
  "jupytext": {
   "formats": "ipynb,Rmd"
  },
  "kernelspec": {
   "display_name": "R",
   "language": "R",
   "name": "ir"
  },
  "language_info": {
   "codemirror_mode": "r",
   "file_extension": ".r",
   "mimetype": "text/x-r-source",
   "name": "R",
   "pygments_lexer": "r",
   "version": "4.0.2"
  }
 },
 "nbformat": 4,
 "nbformat_minor": 4
}
